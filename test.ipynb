{
 "cells": [
  {
   "cell_type": "code",
   "execution_count": 1,
   "metadata": {},
   "outputs": [
    {
     "data": {
      "application/vnd.jupyter.widget-view+json": {
       "model_id": "4d577e22708e46ce9f6eb5ca001e1d7c",
       "version_major": 2,
       "version_minor": 0
      },
      "text/plain": [
       "Loading checkpoint shards:   0%|          | 0/4 [00:00<?, ?it/s]"
      ]
     },
     "metadata": {},
     "output_type": "display_data"
    }
   ],
   "source": [
    "from transformers import AutoModelForCausalLM, AutoTokenizer\n",
    "\n",
    "tokenizer = AutoTokenizer.from_pretrained(\"./functionary-small-v3.2\")\n",
    "model = AutoModelForCausalLM.from_pretrained(\"./functionary-small-v3.2\", trust_remote_code=True).to('cuda')\n"
   ]
  },
  {
   "cell_type": "code",
   "execution_count": 6,
   "metadata": {},
   "outputs": [
    {
     "name": "stderr",
     "output_type": "stream",
     "text": [
      "Setting `pad_token_id` to `eos_token_id`:128001 for open-end generation.\n"
     ]
    },
    {
     "name": "stdout",
     "output_type": "stream",
     "text": [
      "<|begin_of_text|><|begin_of_text|><|start_header_id|>system<|end_header_id|>\n",
      "\n",
      "You are capable of executing available function(s) if required.\n",
      "Only execute function(s) when absolutely necessary.\n",
      "Ask for the required input to:recipient==all\n",
      "Use JSON for function arguments.\n",
      "Respond in this format:\n",
      ">>>${recipient}\n",
      "${content}\n",
      "Available functions:\n",
      "// Supported function definitions that should be called when necessary.\n",
      "namespace functions {\n",
      "\n",
      "// Get the current weather\n",
      "type get_current_weather = (_: {\n",
      "// The city and state, e.g. San Francisco, CA.\n",
      "location: string,\n",
      "}) => any;\n",
      "\n",
      "} // namespace functions<|eot_id|><|start_header_id|>user<|end_header_id|>\n",
      "\n",
      "What is the weather in Istanbul and Singapore respectively?<|eot_id|><|start_header_id|>assistant<|end_header_id|>\n",
      "\n",
      ">>>{\n",
      "    \"role\": \"assistant\",\n",
      "    \"content\": null,\n",
      "    \"tool_calls\": [\n",
      "        {\n",
      "            \"name\": \"get_current_weather\",\n",
      "            \"arguments\": \"{\\\"location\\\": \\\"Istanbul\\\"}\"\n",
      "        },\n",
      "        {\n",
      "            \"name\": \"get_current_weather\",\n",
      "            \"arguments\": \"{\\\"location\\\": \\\"Singapore\\\"}\"\n",
      "        }\n",
      "    ]\n",
      "}\n"
     ]
    }
   ],
   "source": [
    "tools = [\n",
    "    {\n",
    "        \"type\": \"function\",\n",
    "        \"function\": {\n",
    "            \"name\": \"get_current_weather\",\n",
    "            \"description\": \"Get the current weather\",\n",
    "            \"parameters\": {\n",
    "                \"type\": \"object\",\n",
    "                \"properties\": {\n",
    "                    \"location\": {\n",
    "                        \"type\": \"string\",\n",
    "                        \"description\": \"The city and state, e.g. San Francisco, CA\"\n",
    "                    }\n",
    "                },\n",
    "                \"required\": [\"location\"]\n",
    "            }\n",
    "        }\n",
    "    }\n",
    "]\n",
    "messages = [{\"role\": \"user\", \"content\": \"What is the weather in Istanbul and Singapore respectively?\"}]\n",
    "\n",
    "final_prompt = tokenizer.apply_chat_template(messages, tools, add_generation_prompt=True, tokenize=False)\n",
    "inputs = tokenizer(final_prompt, return_tensors=\"pt\").to(\"cuda\")\n",
    "pred = model.generate_tool_use(**inputs, max_new_tokens=128, tokenizer=tokenizer)\n",
    "print(tokenizer.decode(pred.cpu()[0]))"
   ]
  },
  {
   "cell_type": "code",
   "execution_count": null,
   "metadata": {},
   "outputs": [],
   "source": []
  },
  {
   "cell_type": "code",
   "execution_count": null,
   "metadata": {},
   "outputs": [],
   "source": []
  },
  {
   "cell_type": "code",
   "execution_count": null,
   "metadata": {},
   "outputs": [],
   "source": []
  }
 ],
 "metadata": {
  "kernelspec": {
   "display_name": "python-3.11",
   "language": "python",
   "name": "python3"
  },
  "language_info": {
   "codemirror_mode": {
    "name": "ipython",
    "version": 3
   },
   "file_extension": ".py",
   "mimetype": "text/x-python",
   "name": "python",
   "nbconvert_exporter": "python",
   "pygments_lexer": "ipython3",
   "version": "3.11.9"
  }
 },
 "nbformat": 4,
 "nbformat_minor": 2
}
